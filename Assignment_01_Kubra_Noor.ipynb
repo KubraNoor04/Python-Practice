{
  "nbformat": 4,
  "nbformat_minor": 0,
  "metadata": {
    "colab": {
      "provenance": []
    },
    "kernelspec": {
      "name": "python3",
      "display_name": "Python 3"
    },
    "language_info": {
      "name": "python"
    }
  },
  "cells": [
    {
      "cell_type": "markdown",
      "source": [
        "Create a list named \"fruits\" containing three different fruits and display its items\n",
        "using for loop."
      ],
      "metadata": {
        "id": "FlQp_dEpECgO"
      }
    },
    {
      "cell_type": "code",
      "execution_count": null,
      "metadata": {
        "colab": {
          "base_uri": "https://localhost:8080/"
        },
        "id": "nkd0FV1pD6Qm",
        "outputId": "d7d56d5d-8b7b-4ccd-97d7-97d886725a30"
      },
      "outputs": [
        {
          "output_type": "stream",
          "name": "stdout",
          "text": [
            "Some fruits name are: Apple\n",
            "Some fruits name are: Mango\n",
            "Some fruits name are: Orange\n",
            "Some fruits name are: Watermelon\n",
            "Some fruits name are: Melon\n",
            "Some fruits name are: Guava\n"
          ]
        }
      ],
      "source": [
        "fruit_list = [\"Apple\",\"Mango\",\"Orange\",\"Watermelon\",\"Melon\",\"Guava\"]\n",
        "for i in fruit_list:\n",
        "  print(f\"Some fruits name are: {i}\")"
      ]
    },
    {
      "cell_type": "markdown",
      "source": [
        "Create a tuple named \"numbers\" with five random numbers and display its item\n",
        "using for loop."
      ],
      "metadata": {
        "id": "-2C1ix1IEfWt"
      }
    },
    {
      "cell_type": "code",
      "source": [
        "numbers_tuple = (\"1\", \"22\",\"54\",\"76\",\"20\")\n",
        "for i in numbers_tuple:\n",
        "  print(f\"Some Maths numbers are: {i}\")\n"
      ],
      "metadata": {
        "colab": {
          "base_uri": "https://localhost:8080/"
        },
        "id": "aUdGN4qKEfEC",
        "outputId": "d9a0e9a7-34f5-41d8-95b3-04c34f841814"
      },
      "execution_count": null,
      "outputs": [
        {
          "output_type": "stream",
          "name": "stdout",
          "text": [
            "Some Maths numbers are: 1\n",
            "Some Maths numbers are: 22\n",
            "Some Maths numbers are: 54\n",
            "Some Maths numbers are: 76\n",
            "Some Maths numbers are: 20\n"
          ]
        }
      ]
    },
    {
      "cell_type": "code",
      "source": [
        "numbers_tuple = (\"1\", \"22\",\"54\",\"76\",\"20\")\n",
        "for i in numbers_tuple:\n",
        "  print(f\"{i}\")\n"
      ],
      "metadata": {
        "colab": {
          "base_uri": "https://localhost:8080/"
        },
        "id": "Pjs-HTjyFK7M",
        "outputId": "097f4307-c360-4e5c-fa13-f3462123af69"
      },
      "execution_count": null,
      "outputs": [
        {
          "output_type": "stream",
          "name": "stdout",
          "text": [
            "1\n",
            "22\n",
            "54\n",
            "76\n",
            "20\n"
          ]
        }
      ]
    },
    {
      "cell_type": "markdown",
      "source": [
        "Create a set named \"colors\" with three different colors and display its items using\n",
        "for loop."
      ],
      "metadata": {
        "id": "B1UEWxzXFSOv"
      }
    },
    {
      "cell_type": "code",
      "source": [
        "my_set = {\"Red\",\"Orange\",\"Purple\"}\n",
        "for i in  my_set:\n",
        "  print(i)\n"
      ],
      "metadata": {
        "id": "GGMXd3w9FOn3",
        "colab": {
          "base_uri": "https://localhost:8080/"
        },
        "outputId": "d0b1bcc7-6687-470d-aa23-52037ab55e6b"
      },
      "execution_count": 8,
      "outputs": [
        {
          "output_type": "stream",
          "name": "stdout",
          "text": [
            "Purple\n",
            "Orange\n",
            "Red\n"
          ]
        }
      ]
    },
    {
      "cell_type": "markdown",
      "source": [
        "Create a dictionary named \"student\" with the following key-value pairs:\n",
        "\n",
        "o \"name\" as the key and the student's name as the value.\n",
        "\n",
        "o \"age\" as the key and the student's age as the value.\n",
        "\n",
        "o \"grade\" as the key and the student's grade as the value.\n",
        "\n",
        "o Iterate over the dictionary using the for loop and display its keys\n",
        "\n",
        "o Iterate over the dictionary using the for loop and display its values"
      ],
      "metadata": {
        "id": "XcoVDWBMGnqQ"
      }
    },
    {
      "cell_type": "code",
      "source": [
        "student = {\"Name\":\"Ali\",\"Age\":\"24\", \"grade\":\"A+\"}\n",
        "for i in student.keys():\n",
        "  print(i)"
      ],
      "metadata": {
        "id": "b-QhbuV8GxUg",
        "colab": {
          "base_uri": "https://localhost:8080/"
        },
        "outputId": "1de55f13-7ed9-4a4e-bf2f-76ee7e87fcf7"
      },
      "execution_count": 19,
      "outputs": [
        {
          "output_type": "stream",
          "name": "stdout",
          "text": [
            "Name\n",
            "Age\n",
            "grade\n"
          ]
        }
      ]
    },
    {
      "cell_type": "code",
      "source": [
        "student = {\"Name\":\"Ali\",\"Age\":\"24\", \"grade\":\"A+\"}\n",
        "for i in student.values():\n",
        "  print(i)"
      ],
      "metadata": {
        "colab": {
          "base_uri": "https://localhost:8080/"
        },
        "id": "y93XFtnwHuuV",
        "outputId": "346d0478-e625-4f81-ee99-41238ff03afa"
      },
      "execution_count": 18,
      "outputs": [
        {
          "output_type": "stream",
          "name": "stdout",
          "text": [
            "Ali\n",
            "24\n",
            "A+\n"
          ]
        }
      ]
    },
    {
      "cell_type": "markdown",
      "source": [
        "Create a multi-line string named \"poem\" with a short poem of your choice."
      ],
      "metadata": {
        "id": "NU7MtXCeIbwL"
      }
    },
    {
      "cell_type": "code",
      "source": [
        "poem = \"\"\"\n",
        "In a world of whispers, 'neath the moon's soft glow,\n",
        "Nature weaves tales, where gentle breezes blow.\n",
        "Stars above, like diamonds in the night,\n",
        "Painting constellations, a celestial delight.\n",
        "\n",
        "A river's melody, a lullaby of the stream,\n",
        "Through valleys and meadows, a tranquil dream.\n",
        "Petals in the breeze, a ballet in the air,\n",
        "Nature's poetry, beyond compare.\n",
        "\n",
        "Sunset hues, a canvas painted with fire,\n",
        "Fading to twilight, dreams inspired.\n",
        "Whispers of the trees, their stories unfold,\n",
        "Nature's poetry, a tale untold.\n",
        "\n",
        "Beneath the sky's vast, cosmic dome,\n",
        "In every rustle, in every poem,\n",
        "The universe hums, a harmonious song,\n",
        "A symphony of life, where we all belong.\"\"\"\n",
        "poem"
      ],
      "metadata": {
        "colab": {
          "base_uri": "https://localhost:8080/",
          "height": 87
        },
        "id": "Fmq6lxogIfl1",
        "outputId": "0ae923f4-f6be-490a-c21d-704c3c93ffc6"
      },
      "execution_count": 21,
      "outputs": [
        {
          "output_type": "execute_result",
          "data": {
            "text/plain": [
              "\"\\nIn a world of whispers, 'neath the moon's soft glow,\\nNature weaves tales, where gentle breezes blow.\\nStars above, like diamonds in the night,\\nPainting constellations, a celestial delight.\\n\\nA river's melody, a lullaby of the stream,\\nThrough valleys and meadows, a tranquil dream.\\nPetals in the breeze, a ballet in the air,\\nNature's poetry, beyond compare.\\n\\nSunset hues, a canvas painted with fire,\\nFading to twilight, dreams inspired.\\nWhispers of the trees, their stories unfold,\\nNature's poetry, a tale untold.\\n\\nBeneath the sky's vast, cosmic dome,\\nIn every rustle, in every poem,\\nThe universe hums, a harmonious song,\\nA symphony of life, where we all belong.\""
            ],
            "application/vnd.google.colaboratory.intrinsic+json": {
              "type": "string"
            }
          },
          "metadata": {},
          "execution_count": 21
        }
      ]
    },
    {
      "cell_type": "markdown",
      "source": [
        "Write an if statement to check if the length of the \"fruits\" list is greater than 3. If it\n",
        "is, print \"You have many fruits!\"."
      ],
      "metadata": {
        "id": "IhYEFxuoI2CM"
      }
    },
    {
      "cell_type": "code",
      "source": [
        "fruit_list = [\"Apple\",\"Mango\",\"Orange\",\"Watermelon\",\"Melon\",\"Guava\"]\n",
        "if len(fruit_list)>3:\n",
        "  print(\"You have many fruits\")"
      ],
      "metadata": {
        "colab": {
          "base_uri": "https://localhost:8080/"
        },
        "id": "H166I_KoI5yR",
        "outputId": "5262ded0-68c8-4558-a417-fc7ae12dff8f"
      },
      "execution_count": 24,
      "outputs": [
        {
          "output_type": "stream",
          "name": "stdout",
          "text": [
            "You have many fruits\n"
          ]
        }
      ]
    },
    {
      "cell_type": "markdown",
      "source": [
        "Create a program that takes a student's numerical grade as input and prints a\n",
        "corresponding letter grade.\n",
        " Use if-else statements to classify the grade into\n",
        "categories such as \"A,\" \"B,\" \"C,\" \"D,\" or \"F.\" (Marks 20)\n",
        "\n",
        "o If the numerical grade is 90 or higher, the corresponding letter grade is \"A.\"\n",
        "\n",
        "o If the numerical grade is between 80 and 89 (inclusive), the corresponding\n",
        "letter grade is \"B.\"\n",
        "\n",
        "o If the numerical grade is between 70 and 79 (inclusive), the corresponding\n",
        "letter grade is \"C.\"\n",
        "\n",
        "o If the numerical grade is between 60 and 69 (inclusive), the corresponding\n",
        "letter grade is \"D.\"\n",
        "\n",
        "o If the numerical grade is below 60, the corresponding letter grade is \"F.\""
      ],
      "metadata": {
        "id": "xOqq8znIJk3D"
      }
    },
    {
      "cell_type": "code",
      "source": [
        "grade = float(input(\"Enter your Marks: \")) #input marks\n",
        "if grade >= 90:\n",
        "  print(\"Your Grade is A\")\n",
        "elif grade>=80 and grade <=89:\n",
        "  print(\"Your Grade is B\")\n",
        "elif grade>=70 and grade <=79:\n",
        "  print(\"Your Grade is C\")\n",
        "elif grade>=60 and grade <=69:\n",
        "  print(\"Your Grade is D\")\n",
        "elif grade < 60:\n",
        "  print(\"Your Grade is F\")"
      ],
      "metadata": {
        "colab": {
          "base_uri": "https://localhost:8080/"
        },
        "id": "aVhF_rfkJrG6",
        "outputId": "6271f652-7b2c-474f-a125-5716e4785cd8"
      },
      "execution_count": 32,
      "outputs": [
        {
          "output_type": "stream",
          "name": "stdout",
          "text": [
            "Enter your Marks: 67.9\n",
            "Your Grade is D\n"
          ]
        }
      ]
    },
    {
      "cell_type": "markdown",
      "source": [
        "Create a program that takes a temperature in Celsius as input from user and\n",
        "classifies it into categories like \"Freezing,\" \"Cold,\" \"Moderate,\" \"Warm,\" or \"Hot.\"\n",
        "\n",
        "Use if-else statements to define the temperature ranges for each category. (Marks\n",
        "20)\n",
        "\n",
        "o If the temperature is below -10 degrees Celsius, it's classified as \"Freezing.\"\n",
        "\n",
        "o If the temperature is between -10 and 0 degrees Celsius (exclusive), it's\n",
        "classified as \"Cold.\"\n",
        "\n",
        "o If the temperature is between 0 and 20 degrees Celsius (exclusive), it's\n",
        "classified as \"Moderate.\"\n",
        "\n",
        "o If the temperature is between 20 and 30 degrees Celsius (exclusive), it's\n",
        "classified as \"Warm.\"\n",
        "\n",
        "o If the temperature is 30 degrees Celsius or above, it's classified as \"Hot.\""
      ],
      "metadata": {
        "id": "Ufi8-o9FL-Do"
      }
    },
    {
      "cell_type": "code",
      "source": [
        "# Input the temperature in Celsius\n",
        "temperature_Celsius = float(input(\"Enter the temperature in Celsius: \"))\n",
        "\n",
        "if temperature_Celsius < -10:\n",
        "    category = \"Freezing\"\n",
        "elif temperature_Celsius>=-10 and temperature_Celsius < 0:\n",
        "    category = \"Cold\"\n",
        "elif temperature_Celsius>=0 and temperature_Celsius < 20:\n",
        "    category = \"Moderate\"\n",
        "elif temperature_Celsius>20 and temperature_Celsius < 30:\n",
        "    category = \"Warm\"\n",
        "else:\n",
        "    category = \"Hot\"\n",
        "\n",
        "\n",
        "print(f\"The temperature is classified as: {category}\")\n"
      ],
      "metadata": {
        "colab": {
          "base_uri": "https://localhost:8080/"
        },
        "id": "UNSZpQh5MHPF",
        "outputId": "e0368fb6-3f54-414d-f29f-36a972bb833d"
      },
      "execution_count": 34,
      "outputs": [
        {
          "output_type": "stream",
          "name": "stdout",
          "text": [
            "Enter the temperature in Celsius: 44\n",
            "The temperature is classified as: Hot\n"
          ]
        }
      ]
    }
  ]
}